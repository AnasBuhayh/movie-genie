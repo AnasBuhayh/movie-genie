{
 "cells": [
  {
   "cell_type": "code",
   "execution_count": 1,
   "id": "765853dc",
   "metadata": {},
   "outputs": [],
   "source": [
    "import pandas as pd\n",
    "\n",
    "df = pd.read_csv('raw/tmdb/TMDB_movie_dataset_v11.csv')\n",
    "\n"
   ]
  },
  {
   "cell_type": "code",
   "execution_count": 2,
   "id": "499ec051",
   "metadata": {},
   "outputs": [
    {
     "name": "stdout",
     "output_type": "stream",
     "text": [
      "<class 'pandas.core.frame.DataFrame'>\n",
      "RangeIndex: 1289571 entries, 0 to 1289570\n",
      "Data columns (total 24 columns):\n",
      " #   Column                Non-Null Count    Dtype  \n",
      "---  ------                --------------    -----  \n",
      " 0   id                    1289571 non-null  int64  \n",
      " 1   title                 1289556 non-null  object \n",
      " 2   vote_average          1289571 non-null  float64\n",
      " 3   vote_count            1289571 non-null  int64  \n",
      " 4   status                1289571 non-null  object \n",
      " 5   release_date          1035416 non-null  object \n",
      " 6   revenue               1289571 non-null  int64  \n",
      " 7   runtime               1289571 non-null  int64  \n",
      " 8   adult                 1289571 non-null  bool   \n",
      " 9   backdrop_path         330577 non-null   object \n",
      " 10  budget                1289571 non-null  int64  \n",
      " 11  homepage              134372 non-null   object \n",
      " 12  imdb_id               638850 non-null   object \n",
      " 13  original_language     1289571 non-null  object \n",
      " 14  original_title        1289556 non-null  object \n",
      " 15  overview              1005474 non-null  object \n",
      " 16  popularity            1289571 non-null  float64\n",
      " 17  poster_path           854032 non-null   object \n",
      " 18  tagline               180051 non-null   object \n",
      " 19  genres                742858 non-null   object \n",
      " 20  production_companies  563855 non-null   object \n",
      " 21  production_countries  686553 non-null   object \n",
      " 22  spoken_languages      710404 non-null   object \n",
      " 23  keywords              331135 non-null   object \n",
      "dtypes: bool(1), float64(2), int64(5), object(16)\n",
      "memory usage: 227.5+ MB\n"
     ]
    }
   ],
   "source": [
    "df.info()"
   ]
  },
  {
   "cell_type": "code",
   "execution_count": 3,
   "id": "3ddac50c",
   "metadata": {},
   "outputs": [
    {
     "name": "stdout",
     "output_type": "stream",
     "text": [
      "       id            title  vote_average  vote_count    status release_date  \\\n",
      "0   27205        Inception         8.364       34495  Released   2010-07-15   \n",
      "1  157336     Interstellar         8.417       32571  Released   2014-11-05   \n",
      "2     155  The Dark Knight         8.512       30619  Released   2008-07-16   \n",
      "3   19995           Avatar         7.573       29815  Released   2009-12-15   \n",
      "4   24428     The Avengers         7.710       29166  Released   2012-04-25   \n",
      "\n",
      "      revenue  runtime  adult                     backdrop_path  ...  \\\n",
      "0   825532764      148  False  /8ZTVqvKDQ8emSGUEMjsS4yHAwrp.jpg  ...   \n",
      "1   701729206      169  False  /pbrkL804c8yAv3zBZR4QPEafpAR.jpg  ...   \n",
      "2  1004558444      152  False  /nMKdUUepR0i5zn0y1T4CsSB5chy.jpg  ...   \n",
      "3  2923706026      162  False  /vL5LR6WdxWPjLPFRLe133jXWsh5.jpg  ...   \n",
      "4  1518815515      143  False  /9BBTo63ANSmhC4e6r62OJFuK2GL.jpg  ...   \n",
      "\n",
      "    original_title                                           overview  \\\n",
      "0        Inception  Cobb, a skilled thief who commits corporate es...   \n",
      "1     Interstellar  The adventures of a group of explorers who mak...   \n",
      "2  The Dark Knight  Batman raises the stakes in his war on crime. ...   \n",
      "3           Avatar  In the 22nd century, a paraplegic Marine is di...   \n",
      "4     The Avengers  When an unexpected enemy emerges and threatens...   \n",
      "\n",
      "  popularity                       poster_path  \\\n",
      "0     83.952  /oYuLEt3zVCKq57qu2F8dT7NIa6f.jpg   \n",
      "1    140.241  /gEU2QniE6E77NI6lCU6MxlNBvIx.jpg   \n",
      "2    130.643  /qJ2tW6WMUDux911r6m7haRef0WH.jpg   \n",
      "3     79.932  /kyeqWdyUXW608qlYkRqosgbbJyK.jpg   \n",
      "4     98.082   /RYMX2wcKCBAr24UyPD7xwmjaTn.jpg   \n",
      "\n",
      "                                             tagline  \\\n",
      "0               Your mind is the scene of the crime.   \n",
      "1  Mankind was born on Earth. It was never meant ...   \n",
      "2                  Welcome to a world without rules.   \n",
      "3                        Enter the world of Pandora.   \n",
      "4                            Some assembly required.   \n",
      "\n",
      "                                        genres  \\\n",
      "0           Action, Science Fiction, Adventure   \n",
      "1            Adventure, Drama, Science Fiction   \n",
      "2               Drama, Action, Crime, Thriller   \n",
      "3  Action, Adventure, Fantasy, Science Fiction   \n",
      "4           Science Fiction, Action, Adventure   \n",
      "\n",
      "                                production_companies  \\\n",
      "0  Legendary Pictures, Syncopy, Warner Bros. Pict...   \n",
      "1  Legendary Pictures, Syncopy, Lynda Obst Produc...   \n",
      "2  DC Comics, Legendary Pictures, Syncopy, Isobel...   \n",
      "3  Dune Entertainment, Lightstorm Entertainment, ...   \n",
      "4                                     Marvel Studios   \n",
      "\n",
      "                       production_countries  \\\n",
      "0  United Kingdom, United States of America   \n",
      "1  United Kingdom, United States of America   \n",
      "2  United Kingdom, United States of America   \n",
      "3  United States of America, United Kingdom   \n",
      "4                  United States of America   \n",
      "\n",
      "                     spoken_languages  \\\n",
      "0  English, French, Japanese, Swahili   \n",
      "1                             English   \n",
      "2                   English, Mandarin   \n",
      "3                    English, Spanish   \n",
      "4             English, Hindi, Russian   \n",
      "\n",
      "                                            keywords  \n",
      "0  rescue, mission, dream, airplane, paris, franc...  \n",
      "1  rescue, future, spacecraft, race against time,...  \n",
      "2  joker, sadism, chaos, secret identity, crime f...  \n",
      "3  future, society, culture clash, space travel, ...  \n",
      "4  new york city, superhero, shield, based on com...  \n",
      "\n",
      "[5 rows x 24 columns]\n"
     ]
    }
   ],
   "source": [
    "print(df.head() )"
   ]
  },
  {
   "cell_type": "code",
   "execution_count": 6,
   "id": "3885869e",
   "metadata": {},
   "outputs": [
    {
     "data": {
      "text/plain": [
       "Index(['id', 'title', 'vote_average', 'vote_count', 'status', 'release_date',\n",
       "       'revenue', 'runtime', 'adult', 'backdrop_path', 'budget', 'homepage',\n",
       "       'imdb_id', 'original_language', 'original_title', 'overview',\n",
       "       'popularity', 'poster_path', 'tagline', 'genres',\n",
       "       'production_companies', 'production_countries', 'spoken_languages',\n",
       "       'keywords'],\n",
       "      dtype='object')"
      ]
     },
     "execution_count": 6,
     "metadata": {},
     "output_type": "execute_result"
    }
   ],
   "source": [
    "df.columns"
   ]
  },
  {
   "cell_type": "code",
   "execution_count": 1,
   "id": "d50636df",
   "metadata": {},
   "outputs": [],
   "source": [
    "import pandas as pd"
   ]
  },
  {
   "cell_type": "code",
   "execution_count": 7,
   "id": "c328d452",
   "metadata": {},
   "outputs": [],
   "source": [
    "df = pd.read_csv('raw/ml-latest-small/links.csv')"
   ]
  },
  {
   "cell_type": "code",
   "execution_count": null,
   "id": "7ecd9ff3",
   "metadata": {},
   "outputs": [
    {
     "data": {
      "text/plain": [
       "9742"
      ]
     },
     "execution_count": 8,
     "metadata": {},
     "output_type": "execute_result"
    },
    {
     "ename": "",
     "evalue": "",
     "output_type": "error",
     "traceback": [
      "\u001b[1;31mThe Kernel crashed while executing code in the current cell or a previous cell. \n",
      "\u001b[1;31mPlease review the code in the cell(s) to identify a possible cause of the failure. \n",
      "\u001b[1;31mClick <a href='https://aka.ms/vscodeJupyterKernelCrash'>here</a> for more info. \n",
      "\u001b[1;31mView Jupyter <a href='command:jupyter.viewOutput'>log</a> for further details."
     ]
    }
   ],
   "source": [
    "len(df)"
   ]
  },
  {
   "cell_type": "code",
   "execution_count": 6,
   "id": "33113ad6",
   "metadata": {},
   "outputs": [
    {
     "data": {
      "text/plain": [
       "33832162"
      ]
     },
     "execution_count": 6,
     "metadata": {},
     "output_type": "execute_result"
    }
   ],
   "source": [
    "len(df)"
   ]
  },
  {
   "cell_type": "code",
   "execution_count": null,
   "id": "8e52f58a",
   "metadata": {},
   "outputs": [],
   "source": []
  }
 ],
 "metadata": {
  "kernelspec": {
   "display_name": "movie-genie",
   "language": "python",
   "name": "python3"
  },
  "language_info": {
   "codemirror_mode": {
    "name": "ipython",
    "version": 3
   },
   "file_extension": ".py",
   "mimetype": "text/x-python",
   "name": "python",
   "nbconvert_exporter": "python",
   "pygments_lexer": "ipython3",
   "version": "3.13.6"
  }
 },
 "nbformat": 4,
 "nbformat_minor": 5
}
